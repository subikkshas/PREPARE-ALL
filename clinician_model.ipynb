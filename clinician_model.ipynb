{
  "nbformat": 4,
  "nbformat_minor": 0,
  "metadata": {
    "colab": {
      "provenance": [],
      "authorship_tag": "ABX9TyNODUfMH1b9ZbFWYFrUABES",
      "include_colab_link": true
    },
    "kernelspec": {
      "name": "python3",
      "display_name": "Python 3"
    },
    "language_info": {
      "name": "python"
    }
  },
  "cells": [
    {
      "cell_type": "markdown",
      "metadata": {
        "id": "view-in-github",
        "colab_type": "text"
      },
      "source": [
        "<a href=\"https://colab.research.google.com/github/subikkshas/PREPARE-ALL/blob/main/clinician_model.ipynb\" target=\"_parent\"><img src=\"https://colab.research.google.com/assets/colab-badge.svg\" alt=\"Open In Colab\"/></a>"
      ]
    },
    {
      "cell_type": "code",
      "execution_count": 1,
      "metadata": {
        "id": "DWRK8ZYyiWNN"
      },
      "outputs": [],
      "source": [
        "import os\n",
        "import pandas as pd\n",
        "from google.colab import drive\n",
        "from sklearn.metrics import accuracy_score, precision_score, recall_score, f1_score, roc_auc_score, confusion_matrix"
      ]
    },
    {
      "cell_type": "code",
      "source": [
        "drive.mount('/content/drive')\n",
        "df_test = pd.read_excel('/content/drive/MyDrive/NIR dataset/df_test.xlsx')\n",
        "print(df_test.shape)"
      ],
      "metadata": {
        "colab": {
          "base_uri": "https://localhost:8080/"
        },
        "id": "PeP_TNCGvJQY",
        "outputId": "12094e5a-9bfe-4c61-870e-158da20ee98c"
      },
      "execution_count": 2,
      "outputs": [
        {
          "output_type": "stream",
          "name": "stdout",
          "text": [
            "Mounted at /content/drive\n",
            "(461, 33)\n"
          ]
        }
      ]
    },
    {
      "cell_type": "code",
      "source": [
        "df_cl_pred = pd.read_excel('/content/X_test for drs.xlsx')\n",
        "print(df_cl_pred.shape)"
      ],
      "metadata": {
        "colab": {
          "base_uri": "https://localhost:8080/"
        },
        "id": "T3bN8kBRv83Y",
        "outputId": "c8f49a33-1133-410f-ac76-b2d8d7040cc2"
      },
      "execution_count": 4,
      "outputs": [
        {
          "output_type": "stream",
          "name": "stdout",
          "text": [
            "(467, 17)\n"
          ]
        }
      ]
    },
    {
      "cell_type": "code",
      "source": [
        "# Define key columns\n",
        "# key_cols = ['Previous Treatment', 'NCI Risk', 'Sex', 'Age', 'Lineage',\n",
        "#             'Bulky Disease', 'Highest presenting WBC','Final Risk ']\n",
        "key_cols = [\n",
        "    'Previous Treatment',\n",
        "    'NCI Risk',\n",
        "    # 'Sex',\n",
        "    'Age',\n",
        "    'Lineage',\n",
        "    'Bulky Disease',\n",
        "    'Highest presenting WBC',\n",
        "    'Prednisolone Response',\n",
        "    'CNS Disease',\n",
        "    'Cytogenetic groups ',\n",
        "    'Detail cytogenetics',\n",
        "    'Provisional risk',\n",
        "    'MRD Status_EOI',\n",
        "    'Final Risk '\n",
        "    ]\n",
        "# key_cols = ['Sex', 'Age','Highest presenting WBC']\n",
        "\n",
        "# df_cl_strip = df_cl_strip.reset_index().rename(columns={'index': 'clinical_idx'})\n",
        "\n",
        "\n",
        "df_test['Age'] = df_test['Age'].astype(float).fillna(0).astype(int)\n",
        "df_test['Highest presenting WBC'] = df_test['Highest presenting WBC'].astype(float).fillna(0).astype(int)\n",
        "df_cl_pred['Age'] = df_cl_pred['Age'].astype(float).fillna(0).astype(int)\n",
        "df_cl_pred['Highest presenting WBC'] = df_cl_pred['Highest presenting WBC'].astype(float).fillna(0).astype(int)\n",
        "\n",
        "df_test['Highest presenting WBC'] = df_test['Highest presenting WBC'].round()\n",
        "df_cl_pred['Highest presenting WBC'] = df_cl_pred['Highest presenting WBC'].round()\n",
        "\n",
        "# Step 1: Inner merge on key columns to find matches\n",
        "matches = pd.merge(df_test,df_cl_pred, on=key_cols, how='left',indicator=True,suffixes=('_full', '_clinician'))\n",
        "\n",
        "# Step 2: Count number of matching rows\n",
        "print(f\"Number of matching rows: {len(matches)}\")\n",
        "\n",
        "# Optional: preview some matching rows\n",
        "# matches.head()"
      ],
      "metadata": {
        "colab": {
          "base_uri": "https://localhost:8080/"
        },
        "id": "GIjYvEhOwgNN",
        "outputId": "ab50e760-b73f-4e8d-efa4-41087175a063"
      },
      "execution_count": 5,
      "outputs": [
        {
          "output_type": "stream",
          "name": "stdout",
          "text": [
            "Number of matching rows: 461\n"
          ]
        }
      ]
    },
    {
      "cell_type": "code",
      "source": [
        "# Keep only rows in df_cl_pred that exist in df_test\n",
        "df_cl_pred_filtered = df_cl_pred.merge(df_test[key_cols], on=key_cols, how='inner')\n",
        "\n",
        "print(f\"Original df_cl_pred: {len(df_cl_pred)}\")\n",
        "print(f\"Filtered df_cl_pred: {len(df_cl_pred_filtered)}\")\n",
        "print(f\"df_test: {len(df_test)}\")"
      ],
      "metadata": {
        "colab": {
          "base_uri": "https://localhost:8080/"
        },
        "id": "ivZAakJ5yK_M",
        "outputId": "117b5b79-88db-46f5-c3c9-7926328961bc"
      },
      "execution_count": 6,
      "outputs": [
        {
          "output_type": "stream",
          "name": "stdout",
          "text": [
            "Original df_cl_pred: 467\n",
            "Filtered df_cl_pred: 461\n",
            "df_test: 461\n"
          ]
        }
      ]
    },
    {
      "cell_type": "code",
      "source": [
        "cols_to_append = ['Remission status _EOI', 'Relapsed']\n",
        "\n",
        "df_cl_pred_filtered = pd.merge(df_cl_pred_filtered, df_test[key_cols + cols_to_append], on=key_cols, how='left')\n",
        "\n"
      ],
      "metadata": {
        "id": "rFAzY348yt1F"
      },
      "execution_count": 7,
      "outputs": []
    },
    {
      "cell_type": "code",
      "source": [
        "print(df_cl_pred.shape)\n",
        "print(df_cl_pred_filtered.shape)"
      ],
      "metadata": {
        "colab": {
          "base_uri": "https://localhost:8080/"
        },
        "id": "nqFqrDn4zCcR",
        "outputId": "b0e6fa8a-8e0b-4fe0-d5e0-4ba07482c7d8"
      },
      "execution_count": 8,
      "outputs": [
        {
          "output_type": "stream",
          "name": "stdout",
          "text": [
            "(467, 17)\n",
            "(461, 19)\n"
          ]
        }
      ]
    },
    {
      "cell_type": "code",
      "source": [
        "print(df_cl_pred_filtered['Remission status _EOI'].value_counts(dropna=False))"
      ],
      "metadata": {
        "colab": {
          "base_uri": "https://localhost:8080/"
        },
        "id": "IIkSHc2pzb5D",
        "outputId": "8c77030f-11f1-4f1a-8b7c-82f046db0db4"
      },
      "execution_count": 9,
      "outputs": [
        {
          "output_type": "stream",
          "name": "stdout",
          "text": [
            "Remission status _EOI\n",
            "in remission        415\n",
            ".                    28\n",
            "not in remission     14\n",
            "NaN                   4\n",
            "Name: count, dtype: int64\n"
          ]
        }
      ]
    },
    {
      "cell_type": "code",
      "source": [
        "# True where exactly 'not in remission', False elsewhere (NA -> <NA>), then fill NA -> False\n",
        "mask = df_cl_pred_filtered['Remission status _EOI'].eq('not in remission').fillna(False)\n",
        "\n",
        "# keep rows where mask is False (i.e. not 'not in remission')\n",
        "df_cl_pred_rem = df_cl_pred_filtered.loc[~mask].copy()"
      ],
      "metadata": {
        "id": "hCPAPoMdzrNl"
      },
      "execution_count": 10,
      "outputs": []
    },
    {
      "cell_type": "code",
      "source": [
        "print(df_cl_pred_rem['Remission status _EOI'].value_counts(dropna=False))"
      ],
      "metadata": {
        "colab": {
          "base_uri": "https://localhost:8080/"
        },
        "id": "jO6UMuQ4z1mm",
        "outputId": "99700cbd-05d4-4be8-8c26-86e0823745cb"
      },
      "execution_count": 11,
      "outputs": [
        {
          "output_type": "stream",
          "name": "stdout",
          "text": [
            "Remission status _EOI\n",
            "in remission    415\n",
            ".                28\n",
            "NaN               4\n",
            "Name: count, dtype: int64\n"
          ]
        }
      ]
    },
    {
      "cell_type": "code",
      "source": [
        "print(df_cl_pred_rem.columns)"
      ],
      "metadata": {
        "colab": {
          "base_uri": "https://localhost:8080/"
        },
        "id": "1ny1xM_p0f7u",
        "outputId": "befb8034-013f-4ce3-9afb-789850166b70"
      },
      "execution_count": 12,
      "outputs": [
        {
          "output_type": "stream",
          "name": "stdout",
          "text": [
            "Index(['Previous Treatment', 'NCI Risk', 'Sex', 'Age', 'Lineage',\n",
            "       'Bulky Disease', 'Highest presenting WBC', 'Prednisolone Response',\n",
            "       'CNS Disease', 'Cytogenetic groups ', 'Detail cytogenetics',\n",
            "       'Provisional risk', 'MRD Status_EOI', 'Final Risk ',\n",
            "       'Doctor Predictions - Gargi', 'Doctor's Predictions - Prasanth',\n",
            "       'Doctor Predictions - Balaji', 'Remission status _EOI', 'Relapsed'],\n",
            "      dtype='object')\n"
          ]
        }
      ]
    },
    {
      "cell_type": "code",
      "source": [
        "def clean_string_columns(df, columns_to_clean):\n",
        "  existing_cols_to_clean = [col for col in columns_to_clean if col in df.columns]\n",
        "\n",
        "  for col in existing_cols_to_clean:\n",
        "      df[col] = df[col].astype(\"string\").str.strip().str.lower()\n",
        "\n",
        "  return df"
      ],
      "metadata": {
        "id": "XDShNAOsSQzv"
      },
      "execution_count": 13,
      "outputs": []
    },
    {
      "cell_type": "code",
      "source": [
        "df_cl_pred_rem = clean_string_columns(df_cl_pred_rem, ['Previous Treatment', 'NCI Risk', 'Sex', 'Age', 'Lineage',\n",
        "       'Bulky Disease', 'Highest presenting WBC', 'Prednisolone Response',\n",
        "       'CNS Disease', 'Cytogenetic groups ', 'Detail cytogenetics',\n",
        "       'Provisional risk', 'MRD Status_EOI', 'Final Risk ',\n",
        "       'Doctor Predictions - Gargi', \"Doctor's Predictions - Prasanth\",\n",
        "       'Doctor Predictions - Balaji', 'Remission status _EOI', 'Relapsed'])"
      ],
      "metadata": {
        "id": "wK_X87V5SSJM"
      },
      "execution_count": 14,
      "outputs": []
    },
    {
      "cell_type": "code",
      "source": [
        "cl1_pred = df_cl_pred_rem[\"Doctor Predictions - Gargi\"]\n",
        "cl2_pred = df_cl_pred_rem[\"Doctor's Predictions - Prasanth\"]\n",
        "cl3_pred = df_cl_pred_rem[\"Doctor Predictions - Balaji\"]"
      ],
      "metadata": {
        "id": "F3OBBRwp0jRD"
      },
      "execution_count": 15,
      "outputs": []
    },
    {
      "cell_type": "code",
      "source": [
        "cl1_pred"
      ],
      "metadata": {
        "colab": {
          "base_uri": "https://localhost:8080/",
          "height": 458
        },
        "id": "1Y45oMee1PDp",
        "outputId": "516c4db5-24b5-43d0-beb0-25e95a9a76e2"
      },
      "execution_count": 16,
      "outputs": [
        {
          "output_type": "execute_result",
          "data": {
            "text/plain": [
              "0      yes\n",
              "1      yes\n",
              "2      yes\n",
              "3      yes\n",
              "4       no\n",
              "      ... \n",
              "456     no\n",
              "457     no\n",
              "458    yes\n",
              "459     no\n",
              "460     no\n",
              "Name: Doctor Predictions - Gargi, Length: 447, dtype: string"
            ],
            "text/html": [
              "<div>\n",
              "<style scoped>\n",
              "    .dataframe tbody tr th:only-of-type {\n",
              "        vertical-align: middle;\n",
              "    }\n",
              "\n",
              "    .dataframe tbody tr th {\n",
              "        vertical-align: top;\n",
              "    }\n",
              "\n",
              "    .dataframe thead th {\n",
              "        text-align: right;\n",
              "    }\n",
              "</style>\n",
              "<table border=\"1\" class=\"dataframe\">\n",
              "  <thead>\n",
              "    <tr style=\"text-align: right;\">\n",
              "      <th></th>\n",
              "      <th>Doctor Predictions - Gargi</th>\n",
              "    </tr>\n",
              "  </thead>\n",
              "  <tbody>\n",
              "    <tr>\n",
              "      <th>0</th>\n",
              "      <td>yes</td>\n",
              "    </tr>\n",
              "    <tr>\n",
              "      <th>1</th>\n",
              "      <td>yes</td>\n",
              "    </tr>\n",
              "    <tr>\n",
              "      <th>2</th>\n",
              "      <td>yes</td>\n",
              "    </tr>\n",
              "    <tr>\n",
              "      <th>3</th>\n",
              "      <td>yes</td>\n",
              "    </tr>\n",
              "    <tr>\n",
              "      <th>4</th>\n",
              "      <td>no</td>\n",
              "    </tr>\n",
              "    <tr>\n",
              "      <th>...</th>\n",
              "      <td>...</td>\n",
              "    </tr>\n",
              "    <tr>\n",
              "      <th>456</th>\n",
              "      <td>no</td>\n",
              "    </tr>\n",
              "    <tr>\n",
              "      <th>457</th>\n",
              "      <td>no</td>\n",
              "    </tr>\n",
              "    <tr>\n",
              "      <th>458</th>\n",
              "      <td>yes</td>\n",
              "    </tr>\n",
              "    <tr>\n",
              "      <th>459</th>\n",
              "      <td>no</td>\n",
              "    </tr>\n",
              "    <tr>\n",
              "      <th>460</th>\n",
              "      <td>no</td>\n",
              "    </tr>\n",
              "  </tbody>\n",
              "</table>\n",
              "<p>447 rows × 1 columns</p>\n",
              "</div><br><label><b>dtype:</b> string</label>"
            ]
          },
          "metadata": {},
          "execution_count": 16
        }
      ]
    },
    {
      "cell_type": "code",
      "source": [
        "y_true = df_cl_pred_rem[\"Relapsed\"]"
      ],
      "metadata": {
        "id": "9YoLoPSd1UQA"
      },
      "execution_count": 17,
      "outputs": []
    },
    {
      "cell_type": "code",
      "source": [
        "# Encode 'yes' as 1 and 'no' as 0\n",
        "cl1_pred_encoded = cl1_pred.str.lower().apply(lambda x: 1 if x == 'yes' else 0)\n",
        "cl2_pred_encoded = cl2_pred.str.lower().apply(lambda x: 1 if x == 'yes' else 0)\n",
        "cl3_pred_encoded = cl3_pred.str.lower().apply(lambda x: 1 if x == 'yes' else 0)\n",
        "y_true_encoded = y_true.str.lower().apply(lambda x: 1 if x == 'yes' else 0)"
      ],
      "metadata": {
        "id": "AJGY3k6K2Gtk"
      },
      "execution_count": 18,
      "outputs": []
    },
    {
      "cell_type": "code",
      "source": [
        "# Define the directory to save the files\n",
        "save_dir = '/content/drive/MyDrive/NIR dataset'\n",
        "\n",
        "# Save the encoded Series to CSV files\n",
        "cl1_pred_encoded.to_csv(f'{save_dir}/cl1_pred_encoded.csv', index=False)\n",
        "cl2_pred_encoded.to_csv(f'{save_dir}/cl2_pred_encoded.csv', index=False)\n",
        "cl3_pred_encoded.to_csv(f'{save_dir}/cl3_pred_encoded.csv', index=False)\n",
        "y_true_encoded.to_csv(f'{save_dir}/y_true_encoded.csv', index=False)\n",
        "\n",
        "print(f\"Saved encoded predictions and true values to {save_dir}\")"
      ],
      "metadata": {
        "colab": {
          "base_uri": "https://localhost:8080/"
        },
        "id": "DONCAWhZuSYt",
        "outputId": "3adc0f83-772f-446b-a5c7-bd38b15c8f41"
      },
      "execution_count": 20,
      "outputs": [
        {
          "output_type": "stream",
          "name": "stdout",
          "text": [
            "Saved encoded predictions and true values to /content/drive/MyDrive/NIR dataset\n"
          ]
        }
      ]
    },
    {
      "cell_type": "code",
      "source": [
        "print(cl1_pred_encoded.value_counts())\n",
        "print(f\"\\n{cl2_pred_encoded.value_counts()}\")\n",
        "print(f\"\\n{cl3_pred_encoded.value_counts()}\")\n",
        "print(f\"\\n{y_true_encoded.value_counts()}\")"
      ],
      "metadata": {
        "colab": {
          "base_uri": "https://localhost:8080/"
        },
        "id": "rntkYqGa1dBY",
        "outputId": "d378c6d5-6fba-47f3-de91-0e9fdeff2411"
      },
      "execution_count": 19,
      "outputs": [
        {
          "output_type": "stream",
          "name": "stdout",
          "text": [
            "Doctor Predictions - Gargi\n",
            "0    313\n",
            "1    134\n",
            "Name: count, dtype: int64\n",
            "\n",
            "Doctor's Predictions - Prasanth\n",
            "0    297\n",
            "1    150\n",
            "Name: count, dtype: int64\n",
            "\n",
            "Doctor Predictions - Balaji\n",
            "0    305\n",
            "1    142\n",
            "Name: count, dtype: int64\n",
            "\n",
            "Relapsed\n",
            "0    336\n",
            "1    111\n",
            "Name: count, dtype: int64\n"
          ]
        }
      ]
    },
    {
      "cell_type": "code",
      "metadata": {
        "colab": {
          "base_uri": "https://localhost:8080/"
        },
        "id": "41e23705",
        "outputId": "c2b50da4-e8a9-4e6b-88ed-5dcfbf5bc1ee"
      },
      "source": [
        "# Function to calculate and print metrics\n",
        "def print_metrics(y_true, y_pred, predictor_name):\n",
        "    print(f\"--- Metrics for {predictor_name} ---\")\n",
        "    print(f\"Accuracy: {accuracy_score(y_true, y_pred):.4f}\")\n",
        "    print(f\"Precision: {precision_score(y_true, y_pred):.4f}\")\n",
        "    print(f\"Recall: {recall_score(y_true, y_pred):.4f}\")\n",
        "    print(f\"F1 Score: {f1_score(y_true, y_pred):.4f}\")\n",
        "    print(f\"ROC AUC: {roc_auc_score(y_true, y_pred):.4f}\")\n",
        "    # ROC AUC requires probability estimates, which we don't have for clinician predictions.\n",
        "    # print(f\"ROC AUC: {roc_auc_score(y_true, y_pred):.4f}\")\n",
        "    print(\"Confusion Matrix:\")\n",
        "    print(confusion_matrix(y_true, y_pred))\n",
        "    print(\"-\" * (len(predictor_name) + 18))\n",
        "\n",
        "# Print metrics for each clinician's predictions using the encoded data\n",
        "print_metrics(y_true_encoded, cl1_pred_encoded, \"Clinician 1 (Gargi)\")\n",
        "print_metrics(y_true_encoded, cl2_pred_encoded, \"Clinician 2 (Prasanth)\")\n",
        "print_metrics(y_true_encoded, cl3_pred_encoded, \"Clinician 3 (Balaji)\")"
      ],
      "execution_count": 21,
      "outputs": [
        {
          "output_type": "stream",
          "name": "stdout",
          "text": [
            "--- Metrics for Clinician 1 (Gargi) ---\n",
            "Accuracy: 0.6085\n",
            "Precision: 0.2612\n",
            "Recall: 0.3153\n",
            "F1 Score: 0.2857\n",
            "ROC AUC: 0.5103\n",
            "Confusion Matrix:\n",
            "[[237  99]\n",
            " [ 76  35]]\n",
            "-------------------------------------\n",
            "--- Metrics for Clinician 2 (Prasanth) ---\n",
            "Accuracy: 0.6264\n",
            "Precision: 0.3133\n",
            "Recall: 0.4234\n",
            "F1 Score: 0.3602\n",
            "ROC AUC: 0.5584\n",
            "Confusion Matrix:\n",
            "[[233 103]\n",
            " [ 64  47]]\n",
            "----------------------------------------\n",
            "--- Metrics for Clinician 3 (Balaji) ---\n",
            "Accuracy: 0.6040\n",
            "Precision: 0.2676\n",
            "Recall: 0.3423\n",
            "F1 Score: 0.3004\n",
            "ROC AUC: 0.5164\n",
            "Confusion Matrix:\n",
            "[[232 104]\n",
            " [ 73  38]]\n",
            "--------------------------------------\n"
          ]
        }
      ]
    },
    {
      "cell_type": "code",
      "source": [
        "X_test_encoded = pd.read_csv('/content/drive/MyDrive/NIR dataset/X_test_encoded.csv')\n",
        "y_test_encoded = pd.read_csv('/content/drive/MyDrive/NIR dataset/y_test_encoded.csv')\n",
        "print(X_test_encoded.shape)\n",
        "print(y_test_encoded.shape)"
      ],
      "metadata": {
        "colab": {
          "base_uri": "https://localhost:8080/"
        },
        "id": "0UrL2rRC2_nl",
        "outputId": "f22532b1-968b-4150-cd7d-c286e6a6903e"
      },
      "execution_count": 22,
      "outputs": [
        {
          "output_type": "stream",
          "name": "stdout",
          "text": [
            "(447, 26)\n",
            "(447, 1)\n"
          ]
        }
      ]
    },
    {
      "cell_type": "code",
      "source": [
        "import joblib\n",
        "\n",
        "# Define the path to the saved model\n",
        "model_path = '/content/drive/MyDrive/NIR dataset/xgb_model.joblib'\n",
        "\n",
        "# Load the model\n",
        "xgb_model = joblib.load(model_path)\n",
        "\n",
        "print(\"XGBoost model loaded successfully.\")"
      ],
      "metadata": {
        "colab": {
          "base_uri": "https://localhost:8080/"
        },
        "id": "YLITnYPiur73",
        "outputId": "26620b67-111c-482b-cb57-1ca59b2b15d4"
      },
      "execution_count": 23,
      "outputs": [
        {
          "output_type": "stream",
          "name": "stdout",
          "text": [
            "XGBoost model loaded successfully.\n"
          ]
        }
      ]
    },
    {
      "cell_type": "code",
      "source": [
        "def evaluate_model(model, X_test, y_test, threshold=0.5):\n",
        "    # Probabilities\n",
        "    y_probs = model.predict_proba(X_test)[:, 1]\n",
        "\n",
        "    # Apply threshold\n",
        "    y_pred = (y_probs >= threshold).astype(int)\n",
        "\n",
        "    # Metrics\n",
        "    acc = accuracy_score(y_test, y_pred)\n",
        "    prec = precision_score(y_test, y_pred, zero_division=0)\n",
        "    rec = recall_score(y_test, y_pred, zero_division=0)\n",
        "    f1 = f1_score(y_test, y_pred, zero_division=0)\n",
        "    auc = roc_auc_score(y_test, y_probs)\n",
        "    cm = confusion_matrix(y_test, y_pred)\n",
        "\n",
        "    # Print neatly\n",
        "    print(\"=== Evaluation Metrics (Summary) ===\")\n",
        "    print(f\"Accuracy : {acc:.4f}\")\n",
        "    print(f\"Precision: {prec:.4f}\")\n",
        "    print(f\"Recall   : {rec:.4f}\")\n",
        "    print(f\"F1-score : {f1:.4f}\")\n",
        "    print(f\"ROC AUC  : {auc:.4f}\")\n",
        "    print(\"\\nConfusion Matrix:\")\n",
        "    print(cm)\n",
        "    return"
      ],
      "metadata": {
        "id": "sOdqS_cZu0Wh"
      },
      "execution_count": 24,
      "outputs": []
    },
    {
      "cell_type": "code",
      "source": [
        "evaluate_model(xgb_model, X_test_encoded, y_test_encoded, threshold = 0.437)"
      ],
      "metadata": {
        "colab": {
          "base_uri": "https://localhost:8080/"
        },
        "id": "F9DKHBWWvAmB",
        "outputId": "0f49730a-1360-4b5e-889d-aafa9ec2c8be"
      },
      "execution_count": 25,
      "outputs": [
        {
          "output_type": "stream",
          "name": "stdout",
          "text": [
            "=== Evaluation Metrics (Summary) ===\n",
            "Accuracy : 0.5481\n",
            "Precision: 0.3128\n",
            "Recall   : 0.6847\n",
            "F1-score : 0.4294\n",
            "ROC AUC  : 0.6321\n",
            "\n",
            "Confusion Matrix:\n",
            "[[169 167]\n",
            " [ 35  76]]\n"
          ]
        }
      ]
    },
    {
      "cell_type": "code",
      "source": [],
      "metadata": {
        "id": "t2hRN1UWvHL2"
      },
      "execution_count": null,
      "outputs": []
    },
    {
      "cell_type": "code",
      "metadata": {
        "colab": {
          "base_uri": "https://localhost:8080/"
        },
        "id": "73e7d1d6",
        "outputId": "2a791e77-b32d-4ad6-c8fa-f9e0b25cd7e7"
      },
      "source": [
        "# Get the model's predictions using the same threshold as before\n",
        "y_probs = xgb_model.predict_proba(X_test_encoded)[:, 1]\n",
        "model_pred_encoded = (y_probs >= 0.437).astype(int)\n",
        "\n",
        "# Convert the numpy array to a pandas Series to ensure both have an index for direct comparison\n",
        "model_pred_encoded = pd.Series(model_pred_encoded, index=X_test_encoded.index)\n",
        "\n",
        "# Ensure both Series have the same index for direct comparison\n",
        "# Reset the index of cl1_pred_encoded to match model_pred_encoded's index\n",
        "cl1_pred_encoded.index = model_pred_encoded.index\n",
        "\n",
        "\n",
        "# Compare the model's predictions and Clinician 1's predictions\n",
        "comparison = (model_pred_encoded == cl1_pred_encoded)\n",
        "\n",
        "# Calculate concordance (where they are the same)\n",
        "concordance_count = comparison.sum()\n",
        "\n",
        "# Calculate discordance (where they are different)\n",
        "discordance_count = (~comparison).sum()\n",
        "\n",
        "total_count = len(comparison)\n",
        "\n",
        "print(f\"Comparison between Model and Clinician 1 (Gargi):\")\n",
        "print(f\"Concordance (Agreement): {concordance_count} out of {total_count} ({concordance_count/total_count:.2%})\")\n",
        "print(f\"Discordance (Disagreement): {discordance_count} out of {total_count} ({discordance_count/total_count:.2%})\")"
      ],
      "execution_count": 28,
      "outputs": [
        {
          "output_type": "stream",
          "name": "stdout",
          "text": [
            "Comparison between Model and Clinician 1 (Gargi):\n",
            "Concordance (Agreement): 220 out of 447 (49.22%)\n",
            "Discordance (Disagreement): 227 out of 447 (50.78%)\n"
          ]
        }
      ]
    },
    {
      "cell_type": "code",
      "source": [
        "# Ensure both Series have the same index for direct comparison\n",
        "# Reset the index of cl2_pred_encoded to match model_pred_encoded's index\n",
        "cl2_pred_encoded.index = model_pred_encoded.index\n",
        "\n",
        "# Compare the model's predictions and Clinician 2's predictions\n",
        "comparison1 = (model_pred_encoded == cl2_pred_encoded)\n",
        "\n",
        "# Calculate concordance (where they are the same)\n",
        "concordance_count1 = comparison1.sum()\n",
        "\n",
        "# Calculate discordance (where they are different)\n",
        "discordance_count1 = (~comparison1).sum()\n",
        "\n",
        "total_count1 = len(comparison1)\n",
        "\n",
        "print(f\"Comparison between Model and Clinician 2 (Prasanth):\")\n",
        "print(f\"Concordance (Agreement): {concordance_count1} out of {total_count1} ({concordance_count1/total_count1:.2%})\")\n",
        "print(f\"Discordance (Disagreement): {discordance_count1} out of {total_count1} ({discordance_count1/total_count1:.2%})\")"
      ],
      "metadata": {
        "colab": {
          "base_uri": "https://localhost:8080/"
        },
        "id": "RlMVCNILwY-5",
        "outputId": "c6da8992-3405-4f0a-9ede-62982b313aec"
      },
      "execution_count": 30,
      "outputs": [
        {
          "output_type": "stream",
          "name": "stdout",
          "text": [
            "Comparison between Model and Clinician 2 (Prasanth):\n",
            "Concordance (Agreement): 230 out of 447 (51.45%)\n",
            "Discordance (Disagreement): 217 out of 447 (48.55%)\n"
          ]
        }
      ]
    },
    {
      "cell_type": "code",
      "source": [
        "# Ensure both Series have the same index for direct comparison\n",
        "# Reset the index of cl2_pred_encoded to match model_pred_encoded's index\n",
        "cl3_pred_encoded.index = model_pred_encoded.index\n",
        "\n",
        "# Compare the model's predictions and Clinician 2's predictions\n",
        "comparison2 = (model_pred_encoded == cl3_pred_encoded)\n",
        "\n",
        "# Calculate concordance (where they are the same)\n",
        "concordance_count2 = comparison2.sum()\n",
        "\n",
        "# Calculate discordance (where they are different)\n",
        "discordance_count2 = (~comparison2).sum()\n",
        "\n",
        "total_count2 = len(comparison2)\n",
        "\n",
        "print(f\"Comparison between Model and Clinician 3 (Balaji):\")\n",
        "print(f\"Concordance (Agreement): {concordance_count2} out of {total_count2} ({concordance_count2/total_count2:.2%})\")\n",
        "print(f\"Discordance (Disagreement): {discordance_count2} out of {total_count2} ({discordance_count2/total_count2:.2%})\")"
      ],
      "metadata": {
        "colab": {
          "base_uri": "https://localhost:8080/"
        },
        "id": "QUDEJErSwxgy",
        "outputId": "5e6daf21-bd6b-4828-86b8-dcf51ec8c5d1"
      },
      "execution_count": 31,
      "outputs": [
        {
          "output_type": "stream",
          "name": "stdout",
          "text": [
            "Comparison between Model and Clinician 3 (Balaji):\n",
            "Concordance (Agreement): 224 out of 447 (50.11%)\n",
            "Discordance (Disagreement): 223 out of 447 (49.89%)\n"
          ]
        }
      ]
    },
    {
      "cell_type": "code",
      "source": [
        "from sklearn.metrics import cohen_kappa_score\n",
        "\n",
        "# Ensure all Series have the same index for comparison\n",
        "# We already aligned the indices of cl1_pred_encoded, cl2_pred_encoded, cl3_pred_encoded\n",
        "# with model_pred_encoded in previous cells.\n",
        "# So, we can directly use them here, assuming those cells were run successfully.\n",
        "\n",
        "# Cohen's Kappa for Model vs Clinicians\n",
        "kappa_model_gargi = cohen_kappa_score(model_pred_encoded, cl1_pred_encoded)\n",
        "kappa_model_prasanth = cohen_kappa_score(model_pred_encoded, cl2_pred_encoded)\n",
        "kappa_model_balaji = cohen_kappa_score(model_pred_encoded, cl3_pred_encoded)\n",
        "\n",
        "print(\"Cohen's Kappa (Model vs Clinicians):\")\n",
        "print(f\"Model vs Gargi: {kappa_model_gargi:.4f}\")\n",
        "print(f\"Model vs Prasanth: {kappa_model_prasanth:.4f}\")\n",
        "print(f\"Model vs Balaji: {kappa_model_balaji:.4f}\")\n",
        "\n",
        "# Cohen's Kappa between Clinicians\n",
        "kappa_gargi_prasanth = cohen_kappa_score(cl1_pred_encoded, cl2_pred_encoded)\n",
        "kappa_gargi_balaji = cohen_kappa_score(cl1_pred_encoded, cl3_pred_encoded)\n",
        "kappa_prasanth_balaji = cohen_kappa_score(cl2_pred_encoded, cl3_pred_encoded)\n",
        "\n",
        "print(\"\\nCohen's Kappa (Between Clinicians):\")\n",
        "print(f\"Gargi vs Prasanth: {kappa_gargi_prasanth:.4f}\")\n",
        "print(f\"Gargi vs Balaji: {kappa_gargi_balaji:.4f}\")\n",
        "print(f\"Prasanth vs Balaji: {kappa_prasanth_balaji:.4f}\")"
      ],
      "metadata": {
        "colab": {
          "base_uri": "https://localhost:8080/"
        },
        "id": "owsN9GvtxW1z",
        "outputId": "4e5f5b19-b435-47ee-e515-0a1acd70af90"
      },
      "execution_count": 33,
      "outputs": [
        {
          "output_type": "stream",
          "name": "stdout",
          "text": [
            "Cohen's Kappa (Model vs Clinicians):\n",
            "Model vs Gargi: 0.0186\n",
            "Model vs Prasanth: 0.0562\n",
            "Model vs Balaji: 0.0330\n",
            "\n",
            "Cohen's Kappa (Between Clinicians):\n",
            "Gargi vs Prasanth: 0.6496\n",
            "Gargi vs Balaji: -0.0688\n",
            "Prasanth vs Balaji: -0.0168\n"
          ]
        }
      ]
    }
  ]
}